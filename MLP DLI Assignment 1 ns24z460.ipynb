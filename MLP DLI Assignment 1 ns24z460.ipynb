{
  "cells": [
    {
      "cell_type": "markdown",
      "metadata": {
        "id": "brbP3gqXZxCY"
      },
      "source": [
        "#### Importing Libraries"
      ]
    },
    {
      "cell_type": "code",
      "execution_count": null,
      "metadata": {
        "id": "9GPTv7rhZxCZ"
      },
      "outputs": [],
      "source": [
        "import numpy as np\n",
        "import pandas as pd\n",
        "import matplotlib.pyplot as plt\n",
        "import warnings\n",
        "import torch\n",
        "import torchvision\n",
        "import torchvision.transforms as transforms\n",
        "from torchvision import datasets\n",
        "from torch.utils.data import DataLoader, random_split, TensorDataset\n",
        "from torchvision.transforms import ToTensor\n",
        "warnings.filterwarnings('ignore')\n",
        "\n",
        "\n",
        "\n",
        "\n",
        "\n",
        "import torch.nn as nn\n",
        "import torch.nn.functional as F\n",
        "import torch.optim as optim\n",
        "warnings.filterwarnings('ignore')"
      ]
    },
    {
      "cell_type": "markdown",
      "metadata": {
        "id": "biTxe_FOZxCa"
      },
      "source": [
        "#### One hot encoder"
      ]
    },
    {
      "cell_type": "code",
      "execution_count": null,
      "metadata": {
        "id": "T7vP5ikXZxCa"
      },
      "outputs": [],
      "source": [
        "import numpy as np\n",
        "\n",
        "def one_hot_encode(matrix):\n",
        "\n",
        "\n",
        "    unique_values = np.unique(matrix)\n",
        "    num_classes = len(unique_values)\n",
        "    value_to_index = {val: idx for idx, val in enumerate(unique_values)}\n",
        "    one_hot_encoded = np.zeros((matrix.size, num_classes))\n",
        "\n",
        "\n",
        "    for i, val in enumerate(matrix):\n",
        "        one_hot_encoded[i, value_to_index[val]] = 1\n",
        "\n",
        "    return one_hot_encoded\n"
      ]
    },
    {
      "cell_type": "markdown",
      "metadata": {
        "id": "0W0XgBJDZxCb"
      },
      "source": [
        "#### Resizing Images (Flattening)"
      ]
    },
    {
      "cell_type": "code",
      "execution_count": null,
      "metadata": {
        "id": "oeNgxsKkZxCb"
      },
      "outputs": [],
      "source": [
        "def resize_and_flatten(data, new_size=(28, 28)):\n",
        "\n",
        "    resized = np.array([np.resize(image, new_size).flatten() for image in data])\n",
        "    return resized"
      ]
    },
    {
      "cell_type": "markdown",
      "metadata": {
        "id": "XDoBt5tyZxCb"
      },
      "source": [
        "#### Dataset loading and preprocessing"
      ]
    },
    {
      "cell_type": "code",
      "execution_count": null,
      "metadata": {
        "id": "a6SeR7IxZxCc"
      },
      "outputs": [],
      "source": [
        "train_dataset = datasets.MNIST(\n",
        "    root=\"data\",\n",
        "    train=True,\n",
        "    download=True,\n",
        "    transform=ToTensor()\n",
        ")\n",
        "\n",
        "test_dataset = datasets.MNIST(\n",
        "    root=\"data\",\n",
        "    train=False,\n",
        "    download=True,\n",
        "    transform=ToTensor()\n",
        ")\n",
        "\n",
        "\n",
        "validation_size = 10000\n",
        "training_size = len(train_dataset) - validation_size\n",
        "\n",
        "train_dataset, val_dataset = random_split(train_dataset, [training_size, validation_size])\n",
        "\n",
        "train_loader = DataLoader(train_dataset, batch_size=training_size, shuffle=True)\n",
        "val_loader = DataLoader(val_dataset, batch_size=validation_size, shuffle=False)\n",
        "\n",
        "train_data = next(iter(train_loader))\n",
        "X_train = train_data[0].numpy()\n",
        "y_train = one_hot_encode(train_data[1].numpy())\n",
        "\n",
        "val_data = next(iter(val_loader))\n",
        "X_val = val_data[0].numpy()\n",
        "y_val = one_hot_encode(val_data[1].numpy())\n",
        "\n",
        "test_loader = DataLoader(test_dataset, batch_size= 10000, shuffle=True)\n",
        "test_data = next(iter(test_loader))\n",
        "\n",
        "X_test = test_data[0].numpy()\n",
        "y_test = one_hot_encode(test_data[1].numpy())\n",
        "\n",
        "#Flattenning the datasets\n",
        "X_train = resize_and_flatten(X_train)\n",
        "X_val = resize_and_flatten(X_val)\n",
        "X_test = resize_and_flatten(X_test)\n",
        "\n",
        "\n"
      ]
    },
    {
      "cell_type": "markdown",
      "metadata": {
        "id": "YC5CaNAPZxCc"
      },
      "source": [
        "#### Initialization of parameters"
      ]
    },
    {
      "cell_type": "code",
      "execution_count": null,
      "metadata": {
        "id": "FQBeMwCdZxCc"
      },
      "outputs": [],
      "source": [
        "\n",
        "def glorot_init(inputs, neurons , outputs):\n",
        "    parameters = {}\n",
        "    Ni , No = inputs, neurons[0]\n",
        "    M = np.sqrt(6/(Ni+No))\n",
        "    parameters[\"W1\"] = np.random.uniform(low = -M, high = M, size = (neurons[0], inputs))\n",
        "    parameters[\"b1\"] = np.zeros(neurons[0])\n",
        "\n",
        "    for i in range(1, len(neurons)):\n",
        "        Ni , No = neurons[i], neurons[i-1]\n",
        "        M = np.sqrt(6/(Ni+No))\n",
        "\n",
        "        parameters[f\"W{i+1}\"] = np.random.uniform(low = -M, high = M, size = (neurons[i], neurons[i - 1]))\n",
        "        parameters[f\"b{i+1}\"] = np.zeros(neurons[i])\n",
        "\n",
        "    parameters[f\"W{len(neurons) + 1}\"] = np.random.uniform(low = -M, high = M, size = (outputs, neurons[- 1]))\n",
        "    parameters[f\"b{len(neurons) + 1}\"] = np.zeros(outputs)\n",
        "    return parameters"
      ]
    },
    {
      "cell_type": "markdown",
      "metadata": {
        "id": "xZMnxblYZxCd"
      },
      "source": [
        "#### Functions used in Feedforward and backprop"
      ]
    },
    {
      "cell_type": "code",
      "execution_count": null,
      "metadata": {
        "id": "OoJziCo5ZxCd"
      },
      "outputs": [],
      "source": [
        "def sigmoid(x):\n",
        "    return expit(x)\n",
        "def relu(x):\n",
        "    return np.maximum(0, x)\n",
        "\n",
        "from scipy.special import expit\n",
        "\n",
        "\n",
        "\n",
        "def drelu(x):\n",
        "    return np.where(x > 0, 1, 0)\n",
        "\n",
        "def dtanh(x):\n",
        "    return 1 - (np.tanh(x) ** 2)\n",
        "def tanh(x):\n",
        "    return np.tanh(x)\n",
        "def gradient_w(x,w,b,y):\n",
        "    f_x = w.T  @ x\n",
        "    return sigmoid(w.T @ x) * (1-sigmoid(w.T @ x)) * (f_x - y) * x\n",
        "\n",
        "\n",
        "def dsigmoid(a):\n",
        "    return sigmoid(a) * (1-sigmoid(a))\n",
        "\n",
        "def gradient_b(x,w,b,y):\n",
        "    f_x = w.T  @ x\n",
        "    return sigmoid(w.T @ x) * (1-sigmoid(w.T @ x)) * (f_x - y)\n",
        "\n",
        "def softmax(x):\n",
        "    return np.exp(x) / np.sum(np.exp(x), axis=0)\n",
        "\n",
        "def cross_entropy(y_p, y_t):\n",
        "    return -np.sum(y_t * np.log(y_p))\n",
        "\n",
        "def average_every_200_elements(data):\n",
        "    averages = []\n",
        "\n",
        "    for i in range(0, len(data), 200):\n",
        "        chunk = data[i:i + 200]\n",
        "        chunk_sum = sum(chunk)\n",
        "        chunk_avg = chunk_sum / len(chunk)\n",
        "        averages.append(chunk_avg)\n",
        "    return averages"
      ]
    },
    {
      "cell_type": "markdown",
      "metadata": {
        "id": "KG6lbJWGZxCd"
      },
      "source": [
        "#### Forward propogation"
      ]
    },
    {
      "cell_type": "code",
      "execution_count": null,
      "metadata": {
        "id": "YBaAhh2lZxCd"
      },
      "outputs": [],
      "source": [
        "def forward_prop(x, parameter, h, g_act):\n",
        "\n",
        "\n",
        "    activation_output = {}\n",
        "\n",
        "    activation_output[f'a{1}'] =  parameter[f'W{1}'] @ x + parameter[f'b{1}']\n",
        "\n",
        "    activation_output[f'h{1}'] = g_act(activation_output[f'a{1}'])\n",
        "\n",
        "    activation_output['h0'] = x\n",
        "\n",
        "    for i in range(2,h-1):\n",
        "\n",
        "\n",
        "\n",
        "        activation_output[f'a{i}'] =  parameter[f'W{i}'] @  activation_output[f'h{i-1}'] + parameter[f'b{i}']\n",
        "\n",
        "        activation_output[f'h{i}'] = g_act(activation_output[f'a{i}'])\n",
        "\n",
        "\n",
        "    activation_output[f'a{h-1}'] =  parameter[f'W{h-1}'] @  activation_output[f'h{h-2}'] + parameter[f'b{h-1}']\n",
        "    activation_output[f'h{h-1}'] = softmax(activation_output[f'a{h-1}'])\n",
        "\n",
        "    activation_output['a1']  =  activation_output['a1'].T\n",
        "    activation_output['h1'] =  activation_output['h1'].T\n",
        "    return activation_output\n"
      ]
    },
    {
      "cell_type": "markdown",
      "metadata": {
        "id": "H3t0E2OrZxCe"
      },
      "source": [
        "#### Backpropogation"
      ]
    },
    {
      "cell_type": "code",
      "execution_count": null,
      "metadata": {
        "id": "9M7p-LyuZxCe"
      },
      "outputs": [],
      "source": [
        "def backprop(activation_output, parameters, y, k, cl, d_act):\n",
        "    # d_act = f\"d{g_act}\"\n",
        "    y_p = activation_output[f'h{k}']\n",
        "    dl_aL = y_p - y\n",
        "    gradients = {}\n",
        "    gradients[f\"dW{k}\"] = np.outer(dl_aL,  activation_output[f\"h{k-1}\"] )\n",
        "    gradients[f\"db{k}\"] = dl_aL.copy()\n",
        "    dl_hl = dl_aL@ parameters[f\"W{k}\"]\n",
        "    dl_aL = (dl_hl) * d_act(activation_output[f\"a{k-1}\"])\n",
        "\n",
        "    for i in range(k-1, 1, -1):\n",
        "\n",
        "\n",
        "\n",
        "        gradients[f'dW{i}'] = np.outer(dl_aL,  activation_output[f'h{i-1}'] )\n",
        "\n",
        "        gradients[f'db{i}'] = dl_aL.copy()\n",
        "\n",
        "\n",
        "        dl_hl = dl_hl =  dl_aL@ parameters[f\"W{i}\"]\n",
        "        dl_aL = (dl_hl) * d_act(activation_output[f'a{i-1}'])\n",
        "\n",
        "    gradients['dW1'] = np.outer(dl_aL, activation_output['h0'])\n",
        "    gradients['db1'] = dl_aL.copy()\n",
        "\n",
        "    return gradients\n"
      ]
    },
    {
      "cell_type": "markdown",
      "metadata": {
        "id": "AsYEBQq1ZxCe"
      },
      "source": [
        "#### Gradient Descent"
      ]
    },
    {
      "cell_type": "code",
      "execution_count": null,
      "metadata": {
        "id": "p1zr_lQWZxCe"
      },
      "outputs": [],
      "source": [
        "def gradient_descent(parameters, losses, eta):\n",
        "    new_parameters = parameters.copy()\n",
        "\n",
        "    for i in range(len(parameters) // 2):\n",
        "        new_parameters[f\"W{i + 1}\"] = parameters[f\"W{i + 1}\"] - eta * losses[f\"dW{i + 1}\"]\n",
        "        new_parameters[f\"b{i + 1}\"] = parameters[f\"b{i + 1}\"] - eta * losses[f\"db{i + 1}\"]\n",
        "\n",
        "    return new_parameters"
      ]
    },
    {
      "cell_type": "markdown",
      "metadata": {
        "id": "wWfJ6qi8ZxCe"
      },
      "source": [
        "#### Batch Gradient Descent Training"
      ]
    },
    {
      "cell_type": "code",
      "execution_count": null,
      "metadata": {
        "id": "KE4C3yPIZxCe"
      },
      "outputs": [],
      "source": [
        "import numpy as np\n",
        "\n",
        "def train_batch2(X_train, y_one_hot_train, parameters, total_layers, epochs, eta, batch_size, g_act, d_act):\n",
        "    train_losses = []\n",
        "    iteration_losses = []\n",
        "    epoch_losses = []\n",
        "    batch_losses = []\n",
        "\n",
        "    for epoch in range(epochs):\n",
        "\n",
        "        permutation = np.random.permutation(X_train.shape[0])\n",
        "        inputs_shuffled = X_train[permutation]\n",
        "        outputs_shuffled = y_one_hot_train[permutation]\n",
        "\n",
        "        print(f\"Epoch {epoch + 1}/{epochs}\")\n",
        "\n",
        "        total_loss = 0\n",
        "        num_batches = int(np.ceil(X_train.shape[0] / batch_size))\n",
        "\n",
        "        for i in range(0, X_train.shape[0], batch_size):\n",
        "\n",
        "            end = min(i + batch_size, X_train.shape[0])\n",
        "            batch_inputs = inputs_shuffled[i:end]\n",
        "            batch_outputs = outputs_shuffled[i:end]\n",
        "\n",
        "\n",
        "            total_gradient_loss = {f'd{key}': np.zeros_like(value) for key, value in parameters.items()}\n",
        "            batch_loss = 0\n",
        "\n",
        "\n",
        "            for x, y in zip(batch_inputs, batch_outputs):\n",
        "                activation_output = forward_prop(x, parameters, total_layers, g_act)\n",
        "                gradients = backprop(activation_output, parameters, y, total_layers - 1, cl=y_one_hot_train.shape[1], d_act=d_act)\n",
        "                batch_loss += cross_entropy(activation_output[f'h{total_layers - 1}'], y)\n",
        "\n",
        "\n",
        "                for key in total_gradient_loss:\n",
        "                    total_gradient_loss[key] += gradients[key]\n",
        "\n",
        "\n",
        "            batch_size_actual = len(batch_inputs)\n",
        "            for key in total_gradient_loss:\n",
        "                total_gradient_loss[key] /= batch_size_actual\n",
        "\n",
        "\n",
        "            parameters = gradient_descent(parameters, total_gradient_loss, eta)\n",
        "\n",
        "\n",
        "            batch_loss /= batch_size_actual\n",
        "            total_loss += batch_loss\n",
        "            batch_losses.append(batch_loss)\n",
        "\n",
        "\n",
        "        epoch_loss = total_loss / num_batches\n",
        "        train_losses.append(epoch_loss)\n",
        "        print(f'Epoch {epoch + 1}/{epochs}, Training Loss: {epoch_loss:.4f}')\n",
        "\n",
        "\n",
        "    return parameters, train_losses, batch_losses\n"
      ]
    },
    {
      "cell_type": "markdown",
      "metadata": {
        "id": "FTIjdzPUZxCf"
      },
      "source": [
        "### Parameters"
      ]
    },
    {
      "cell_type": "code",
      "execution_count": null,
      "metadata": {
        "id": "_NaoC7bkZxCf"
      },
      "outputs": [],
      "source": [
        "parameters = glorot_init(784, [500,250,100] , 10)\n",
        "total_layers = 5\n",
        "epochs = 15\n",
        "eta = 0.01\n",
        "batch_size = 64"
      ]
    },
    {
      "cell_type": "markdown",
      "metadata": {
        "id": "Tlj4THIzZxCf"
      },
      "source": [
        "### Sigmoid Activation"
      ]
    },
    {
      "cell_type": "code",
      "execution_count": null,
      "metadata": {
        "id": "aDw62JtiZxCf",
        "outputId": "f9a4de5a-2c3c-4ed0-a645-6452d885b674"
      },
      "outputs": [
        {
          "name": "stdout",
          "output_type": "stream",
          "text": [
            "Epoch 1/15\n",
            "Epoch 1/15, Training Loss: 2.3023\n",
            "Epoch 2/15\n",
            "Epoch 2/15, Training Loss: 2.2958\n",
            "Epoch 3/15\n",
            "Epoch 3/15, Training Loss: 2.2908\n",
            "Epoch 4/15\n",
            "Epoch 4/15, Training Loss: 2.2849\n",
            "Epoch 5/15\n",
            "Epoch 5/15, Training Loss: 2.2764\n",
            "Epoch 6/15\n",
            "Epoch 6/15, Training Loss: 2.2641\n",
            "Epoch 7/15\n",
            "Epoch 7/15, Training Loss: 2.2432\n",
            "Epoch 8/15\n",
            "Epoch 8/15, Training Loss: 2.2037\n",
            "Epoch 9/15\n",
            "Epoch 9/15, Training Loss: 2.1257\n",
            "Epoch 10/15\n",
            "Epoch 10/15, Training Loss: 1.9913\n",
            "Epoch 11/15\n",
            "Epoch 11/15, Training Loss: 1.8401\n",
            "Epoch 12/15\n",
            "Epoch 12/15, Training Loss: 1.7051\n",
            "Epoch 13/15\n",
            "Epoch 13/15, Training Loss: 1.5593\n",
            "Epoch 14/15\n",
            "Epoch 14/15, Training Loss: 1.3855\n",
            "Epoch 15/15\n",
            "Epoch 15/15, Training Loss: 1.2161\n"
          ]
        }
      ],
      "source": [
        "g_act = sigmoid\n",
        "d_act = dsigmoid\n",
        "new_params_sig, train_losses_sig, iteration_losses_sig= train_batch2(X_train, y_train, parameters, total_layers, epochs, eta, batch_size, g_act, d_act)"
      ]
    },
    {
      "cell_type": "markdown",
      "metadata": {
        "id": "zXLCIP17ZxCf"
      },
      "source": [
        "Plot of training losses with sigmoid activation"
      ]
    },
    {
      "cell_type": "code",
      "execution_count": null,
      "metadata": {
        "id": "mIZcTdl2ZxCf",
        "outputId": "c74bdb7d-d5dc-413f-9c56-ca8f33a90b0f"
      },
      "outputs": [
        {
          "data": {
            "text/plain": [
              "Text(0, 0.5, 'Training Loss')"
            ]
          },
          "execution_count": 34,
          "metadata": {},
          "output_type": "execute_result"
        },
        {
          "data": {
            "image/png": "[encoded data removed]",
            "text/plain": [
              "<Figure size 640x480 with 1 Axes>"
            ]
          },
          "metadata": {},
          "output_type": "display_data"
        }
      ],
      "source": [
        "\n",
        "sigmoid_200_iter = average_every_200_elements(iteration_losses_sig)\n",
        "x = [(i+1)*200 for i in range(len(sigmoid_200_iter ))]\n",
        "plt.plot(x, sigmoid_200_iter )\n",
        "plt.title(\"Training Loss curve for sigmoid\")\n",
        "plt.xlabel(\"No of iterations\")\n",
        "plt.ylabel(\"Training Loss\")\n"
      ]
    },
    {
      "cell_type": "markdown",
      "metadata": {
        "id": "me_W9uIsZxCf"
      },
      "source": [
        "Classification report of training loss with sigmoid activation"
      ]
    },
    {
      "cell_type": "code",
      "execution_count": null,
      "metadata": {
        "id": "CoNwSovYZxCf",
        "outputId": "ad4b2f90-fe86-4375-bf1e-d94e5f4734e6"
      },
      "outputs": [
        {
          "name": "stdout",
          "output_type": "stream",
          "text": [
            "              precision    recall  f1-score   support\n",
            "\n",
            "           0       0.77      0.91      0.84      4884\n",
            "           1       0.75      0.97      0.85      5672\n",
            "           2       0.63      0.54      0.58      4948\n",
            "           3       0.63      0.73      0.68      5106\n",
            "           4       0.59      0.63      0.61      4850\n",
            "           5       0.67      0.46      0.54      4513\n",
            "           6       0.67      0.75      0.71      4935\n",
            "           7       0.64      0.77      0.70      5202\n",
            "           8       0.64      0.41      0.50      4891\n",
            "           9       0.53      0.38      0.44      4999\n",
            "\n",
            "    accuracy                           0.66     50000\n",
            "   macro avg       0.65      0.66      0.64     50000\n",
            "weighted avg       0.65      0.66      0.65     50000\n",
            "\n"
          ]
        }
      ],
      "source": [
        "\n",
        "y_pred_sig = []\n",
        "for x,y in zip(X_train, y_train):\n",
        "\n",
        "    y_pred_sig.append(np.argmax(forward_prop(x, new_params_sig, 5, sigmoid)['h4']))\n",
        "\n",
        "y_train_nos = []\n",
        "for y in y_train:\n",
        "    y_train_nos.append(np.argmax(y))\n",
        "\n",
        "from sklearn.metrics import classification_report\n",
        "\n",
        "print(classification_report(y_train_nos, y_pred_sig))"
      ]
    },
    {
      "cell_type": "markdown",
      "metadata": {
        "id": "rRJo3ZROZxCf"
      },
      "source": [
        "Classification report of test loss with sigmoid activation"
      ]
    },
    {
      "cell_type": "code",
      "execution_count": null,
      "metadata": {
        "id": "Bh_gMRe5ZxCg",
        "outputId": "f24a1d6b-53c3-4ca2-809e-c23f07fb1a83"
      },
      "outputs": [
        {
          "name": "stdout",
          "output_type": "stream",
          "text": [
            "              precision    recall  f1-score   support\n",
            "\n",
            "           0       0.73      0.92      0.82       980\n",
            "           1       0.79      0.98      0.88      1135\n",
            "           2       0.67      0.54      0.60      1032\n",
            "           3       0.61      0.76      0.68      1010\n",
            "           4       0.58      0.60      0.59       982\n",
            "           5       0.67      0.45      0.54       892\n",
            "           6       0.69      0.75      0.72       958\n",
            "           7       0.62      0.77      0.69      1028\n",
            "           8       0.66      0.41      0.50       974\n",
            "           9       0.51      0.38      0.43      1009\n",
            "\n",
            "    accuracy                           0.66     10000\n",
            "   macro avg       0.65      0.66      0.64     10000\n",
            "weighted avg       0.65      0.66      0.65     10000\n",
            "\n"
          ]
        }
      ],
      "source": [
        "y_pred_test_sig = []\n",
        "for x,y in zip(X_test, y_test):\n",
        "\n",
        "    y_pred_test_sig.append(np.argmax(forward_prop(x, new_params_sig, 5, sigmoid)['h4']))\n",
        "\n",
        "y_test_nos = []\n",
        "\n",
        "for y in y_test:\n",
        "    y_test_nos.append(np.argmax(y))\n",
        "\n",
        "print(classification_report(y_test_nos, y_pred_test_sig))"
      ]
    },
    {
      "cell_type": "markdown",
      "metadata": {
        "id": "UrIeiQkVZxCg"
      },
      "source": [
        "### Tanh Activation"
      ]
    },
    {
      "cell_type": "code",
      "execution_count": null,
      "metadata": {
        "id": "ZFnyLxkxZxCg",
        "outputId": "e486f10e-5514-4ae6-bc99-6d3a137ac2cd"
      },
      "outputs": [
        {
          "name": "stdout",
          "output_type": "stream",
          "text": [
            "Epoch 1/15\n",
            "Epoch 1/15, Training Loss: 0.8047\n",
            "Epoch 2/15\n",
            "Epoch 2/15, Training Loss: 0.3826\n",
            "Epoch 3/15\n",
            "Epoch 3/15, Training Loss: 0.3202\n",
            "Epoch 4/15\n",
            "Epoch 4/15, Training Loss: 0.2893\n",
            "Epoch 5/15\n",
            "Epoch 5/15, Training Loss: 0.2675\n",
            "Epoch 6/15\n",
            "Epoch 6/15, Training Loss: 0.2498\n",
            "Epoch 7/15\n",
            "Epoch 7/15, Training Loss: 0.2351\n",
            "Epoch 8/15\n",
            "Epoch 8/15, Training Loss: 0.2220\n",
            "Epoch 9/15\n",
            "Epoch 9/15, Training Loss: 0.2104\n",
            "Epoch 10/15\n",
            "Epoch 10/15, Training Loss: 0.1995\n",
            "Epoch 11/15\n",
            "Epoch 11/15, Training Loss: 0.1893\n",
            "Epoch 12/15\n",
            "Epoch 12/15, Training Loss: 0.1801\n",
            "Epoch 13/15\n",
            "Epoch 13/15, Training Loss: 0.1722\n",
            "Epoch 14/15\n",
            "Epoch 14/15, Training Loss: 0.1640\n",
            "Epoch 15/15\n",
            "Epoch 15/15, Training Loss: 0.1572\n"
          ]
        }
      ],
      "source": [
        "g_act = tanh\n",
        "d_act = dtanh\n",
        "new_params_tanh, train_losses_tanh, iteration_losses_tanh  = train_batch2(X_train, y_train, parameters, total_layers, epochs, eta, batch_size, g_act, d_act)"
      ]
    },
    {
      "cell_type": "markdown",
      "metadata": {
        "id": "BP-nTnqsZxCg"
      },
      "source": [
        "Plotting train losses for tanh Activation"
      ]
    },
    {
      "cell_type": "code",
      "execution_count": null,
      "metadata": {
        "id": "gexc6Dc8ZxCg",
        "outputId": "e75d8ac9-ffde-4b63-ea09-2970ce7c48d2"
      },
      "outputs": [
        {
          "data": {
            "text/plain": [
              "Text(0, 0.5, 'Training Loss')"
            ]
          },
          "execution_count": 40,
          "metadata": {},
          "output_type": "execute_result"
        },
        {
          "data": {
            "image/png": "[encoded data removed]",
            "text/plain": [
              "<Figure size 640x480 with 1 Axes>"
            ]
          },
          "metadata": {},
          "output_type": "display_data"
        }
      ],
      "source": [
        "tanh_200_iter = average_every_200_elements(iteration_losses_tanh)\n",
        "x = [i+1 for i in range(len(tanh_200_iter))]\n",
        "plt.plot(x, tanh_200_iter)\n",
        "plt.title(\"Training Loss curve for tanh\")\n",
        "plt.xlabel(\"No of iterations\")\n",
        "plt.ylabel(\"Training Loss\")"
      ]
    },
    {
      "cell_type": "markdown",
      "metadata": {
        "id": "WZaypuQ5ZxCg"
      },
      "source": [
        "Classification report of train loss with tanh activation"
      ]
    },
    {
      "cell_type": "code",
      "execution_count": null,
      "metadata": {
        "id": "2nSpTnZ6ZxCg",
        "outputId": "e5bfaf76-c616-45b9-d2bd-55753e6555d8"
      },
      "outputs": [
        {
          "name": "stdout",
          "output_type": "stream",
          "text": [
            "              precision    recall  f1-score   support\n",
            "\n",
            "           0       0.97      0.98      0.98      4884\n",
            "           1       0.97      0.98      0.98      5672\n",
            "           2       0.96      0.95      0.95      4948\n",
            "           3       0.94      0.96      0.95      5106\n",
            "           4       0.95      0.95      0.95      4850\n",
            "           5       0.95      0.94      0.95      4513\n",
            "           6       0.97      0.97      0.97      4935\n",
            "           7       0.97      0.96      0.96      5202\n",
            "           8       0.94      0.94      0.94      4891\n",
            "           9       0.95      0.94      0.94      4999\n",
            "\n",
            "    accuracy                           0.96     50000\n",
            "   macro avg       0.96      0.96      0.96     50000\n",
            "weighted avg       0.96      0.96      0.96     50000\n",
            "\n"
          ]
        }
      ],
      "source": [
        "y_pred_tanh = []\n",
        "for x,y in zip(X_train, y_train):\n",
        "\n",
        "    y_pred_tanh.append(np.argmax(forward_prop(x, new_params_tanh, 5, tanh)['h4']))\n",
        "\n",
        "y_train_nos = []\n",
        "for y in y_train:\n",
        "    y_train_nos.append(np.argmax(y))\n",
        "\n",
        "from sklearn.metrics import classification_report\n",
        "\n",
        "print(classification_report(y_train_nos, y_pred_tanh))"
      ]
    },
    {
      "cell_type": "markdown",
      "metadata": {
        "id": "lEavC4dOZxCg"
      },
      "source": [
        "Classification report of test loss with tanh activation"
      ]
    },
    {
      "cell_type": "code",
      "execution_count": null,
      "metadata": {
        "id": "bYM3zjMiZxCg",
        "outputId": "a4294229-67fa-4bce-8b6f-86446c2fc05c"
      },
      "outputs": [
        {
          "name": "stdout",
          "output_type": "stream",
          "text": [
            "              precision    recall  f1-score   support\n",
            "\n",
            "           0       0.96      0.98      0.97       980\n",
            "           1       0.98      0.99      0.98      1135\n",
            "           2       0.96      0.94      0.95      1032\n",
            "           3       0.93      0.96      0.95      1010\n",
            "           4       0.96      0.95      0.95       982\n",
            "           5       0.95      0.93      0.94       892\n",
            "           6       0.96      0.96      0.96       958\n",
            "           7       0.96      0.94      0.95      1028\n",
            "           8       0.94      0.94      0.94       974\n",
            "           9       0.95      0.93      0.94      1009\n",
            "\n",
            "    accuracy                           0.95     10000\n",
            "   macro avg       0.95      0.95      0.95     10000\n",
            "weighted avg       0.95      0.95      0.95     10000\n",
            "\n"
          ]
        }
      ],
      "source": [
        "y_pred_test_tanh = []\n",
        "for x,y in zip(X_test, y_test):\n",
        "\n",
        "    y_pred_test_tanh.append(np.argmax(forward_prop(x, new_params_tanh, 5, tanh)['h4']))\n",
        "\n",
        "y_test_nos = []\n",
        "\n",
        "for y in y_test:\n",
        "    y_test_nos.append(np.argmax(y))\n",
        "\n",
        "print(classification_report(y_test_nos, y_pred_test_tanh))"
      ]
    },
    {
      "cell_type": "markdown",
      "metadata": {
        "id": "KyS6T5SdZxCg"
      },
      "source": [
        "### RELU Activation"
      ]
    },
    {
      "cell_type": "code",
      "execution_count": null,
      "metadata": {
        "id": "rIRaS_1ZZxCm",
        "outputId": "594f2c51-e502-408a-a589-5f8555f7402c"
      },
      "outputs": [
        {
          "name": "stdout",
          "output_type": "stream",
          "text": [
            "Epoch 1/15\n",
            "Epoch 1/15, Training Loss: 1.0930\n",
            "Epoch 2/15\n",
            "Epoch 2/15, Training Loss: 0.3739\n",
            "Epoch 3/15\n",
            "Epoch 3/15, Training Loss: 0.3011\n",
            "Epoch 4/15\n",
            "Epoch 4/15, Training Loss: 0.2609\n",
            "Epoch 5/15\n",
            "Epoch 5/15, Training Loss: 0.2320\n",
            "Epoch 6/15\n",
            "Epoch 6/15, Training Loss: 0.2082\n",
            "Epoch 7/15\n",
            "Epoch 7/15, Training Loss: 0.1885\n",
            "Epoch 8/15\n",
            "Epoch 8/15, Training Loss: 0.1718\n",
            "Epoch 9/15\n",
            "Epoch 9/15, Training Loss: 0.1578\n",
            "Epoch 10/15\n",
            "Epoch 10/15, Training Loss: 0.1455\n",
            "Epoch 11/15\n",
            "Epoch 11/15, Training Loss: 0.1339\n",
            "Epoch 12/15\n",
            "Epoch 12/15, Training Loss: 0.1244\n",
            "Epoch 13/15\n",
            "Epoch 13/15, Training Loss: 0.1160\n",
            "Epoch 14/15\n",
            "Epoch 14/15, Training Loss: 0.1080\n",
            "Epoch 15/15\n",
            "Epoch 15/15, Training Loss: 0.1011\n"
          ]
        }
      ],
      "source": [
        "g_act = relu\n",
        "d_act = drelu\n",
        "new_params_relu, train_losses_relu, iteration_losses_relu= train_batch2(X_train, y_train, parameters, total_layers, epochs, eta, batch_size, g_act, d_act)"
      ]
    },
    {
      "cell_type": "markdown",
      "metadata": {
        "id": "G9_EFyIBZxCn"
      },
      "source": [
        "Plotting train losses for RELU"
      ]
    },
    {
      "cell_type": "code",
      "execution_count": null,
      "metadata": {
        "id": "U1i3DhNlZxCn",
        "outputId": "8b07b36f-952f-4831-e5b3-0b3f654204e1"
      },
      "outputs": [
        {
          "data": {
            "text/plain": [
              "Text(0, 0.5, 'Training Loss')"
            ]
          },
          "execution_count": 40,
          "metadata": {},
          "output_type": "execute_result"
        },
        {
          "data": {
            "image/png": "[encoded data removed]",
            "text/plain": [
              "<Figure size 640x480 with 1 Axes>"
            ]
          },
          "metadata": {},
          "output_type": "display_data"
        }
      ],
      "source": [
        "tanh_200_iter = average_every_200_elements(iteration_losses_relu)\n",
        "x = [i+1 for i in range(len(tanh_200_iter))]\n",
        "plt.plot(x, tanh_200_iter)\n",
        "plt.title(\"Training Loss curve for RELU\")\n",
        "plt.xlabel(\"No of iteration\")\n",
        "plt.ylabel(\"Training Loss\")"
      ]
    },
    {
      "cell_type": "markdown",
      "metadata": {
        "id": "PEQ6FTxjZxCn"
      },
      "source": [
        "Classification report of train loss with RELU"
      ]
    },
    {
      "cell_type": "code",
      "execution_count": null,
      "metadata": {
        "id": "-zKoJSyNZxCn",
        "outputId": "b6173ed5-48cc-4239-8680-7999ef29d401"
      },
      "outputs": [
        {
          "name": "stdout",
          "output_type": "stream",
          "text": [
            "              precision    recall  f1-score   support\n",
            "\n",
            "           0       0.99      0.98      0.98      4940\n",
            "           1       0.98      0.99      0.98      5622\n",
            "           2       0.99      0.95      0.97      4916\n",
            "           3       0.96      0.97      0.97      5102\n",
            "           4       0.97      0.96      0.97      4867\n",
            "           5       0.97      0.97      0.97      4521\n",
            "           6       0.98      0.98      0.98      4984\n",
            "           7       0.99      0.88      0.93      5216\n",
            "           8       0.96      0.95      0.96      4865\n",
            "           9       0.84      0.99      0.91      4967\n",
            "\n",
            "    accuracy                           0.96     50000\n",
            "   macro avg       0.96      0.96      0.96     50000\n",
            "weighted avg       0.96      0.96      0.96     50000\n",
            "\n"
          ]
        }
      ],
      "source": [
        "y_pred_relu = []\n",
        "for x,y in zip(X_train, y_train):\n",
        "\n",
        "    y_pred_relu.append(np.argmax(forward_prop(x, new_params_relu, 5, relu)['h4']))\n",
        "\n",
        "y_train_nos = []\n",
        "\n",
        "for y in y_train:\n",
        "    y_train_nos.append(np.argmax(y))\n",
        "\n",
        "print(classification_report(y_train_nos, y_pred_relu))"
      ]
    },
    {
      "cell_type": "markdown",
      "metadata": {
        "id": "C8CD4Q-nZxCn"
      },
      "source": [
        "Classification report of test loss with RELU"
      ]
    },
    {
      "cell_type": "code",
      "execution_count": null,
      "metadata": {
        "id": "OCpvcWNCZxCn",
        "outputId": "7dec373b-20e9-4d08-dafb-54bdb57f404d"
      },
      "outputs": [
        {
          "name": "stdout",
          "output_type": "stream",
          "text": [
            "              precision    recall  f1-score   support\n",
            "\n",
            "           0       0.98      0.98      0.98       980\n",
            "           1       0.98      0.99      0.98      1135\n",
            "           2       0.98      0.95      0.96      1032\n",
            "           3       0.94      0.97      0.95      1010\n",
            "           4       0.96      0.95      0.96       982\n",
            "           5       0.96      0.96      0.96       892\n",
            "           6       0.97      0.96      0.97       958\n",
            "           7       0.99      0.87      0.93      1028\n",
            "           8       0.96      0.95      0.96       974\n",
            "           9       0.85      0.97      0.91      1009\n",
            "\n",
            "    accuracy                           0.96     10000\n",
            "   macro avg       0.96      0.96      0.96     10000\n",
            "weighted avg       0.96      0.96      0.96     10000\n",
            "\n"
          ]
        }
      ],
      "source": [
        "y_pred_test_relu = []\n",
        "for x,y in zip(X_test, y_test):\n",
        "\n",
        "    y_pred_test_relu.append(np.argmax(forward_prop(x, new_params_relu, 5, relu)['h4']))\n",
        "\n",
        "y_test_nos = []\n",
        "\n",
        "for y in y_test:\n",
        "    y_test_nos.append(np.argmax(y))\n",
        "\n",
        "print(classification_report(y_test_nos, y_pred_test_relu))"
      ]
    },
    {
      "cell_type": "markdown",
      "metadata": {
        "id": "mO3RwobxZxCn"
      },
      "source": [
        "# Pytorch Implementation with adam"
      ]
    },
    {
      "cell_type": "markdown",
      "source": [
        "### Feedforward"
      ],
      "metadata": {
        "id": "_BK1KjsgZ9hh"
      }
    },
    {
      "cell_type": "code",
      "execution_count": 30,
      "metadata": {
        "id": "djxwPAXDZxCn"
      },
      "outputs": [],
      "source": [
        "\n",
        "device = torch.device('cuda' if torch.cuda.is_available() else 'cpu')\n",
        "\n",
        "class FeedForwardNN(nn.Module):\n",
        "    def __init__(self, input_size, hl1, hl2, hl3, output_size, activation=nn.Sigmoid(), output_fn=nn.Softmax()):\n",
        "        super(FeedForwardNN, self).__init__()\n",
        "        self.layer1 = nn.Linear(input_size, hl1)\n",
        "        self.layer2 = nn.Linear(hl1, hl2)\n",
        "        self.layer3 = nn.Linear(hl2, hl3)\n",
        "        self.output_layer = nn.Linear(hl3, output_size)\n",
        "        self.activation = activation\n",
        "        self.output_fn = output_fn\n",
        "\n",
        "    def forward(self, x):\n",
        "        h1 = self.activation(self.layer1(x))\n",
        "        h2 = self.activation(self.layer2(h1))\n",
        "        h3 = self.activation(self.layer3(h2))\n",
        "        output = self.output_fn(self.output_layer(h3))\n",
        "        return output"
      ]
    },
    {
      "cell_type": "markdown",
      "source": [
        "### Train Data Loading"
      ],
      "metadata": {
        "id": "qd2L0Jxvab1R"
      }
    },
    {
      "cell_type": "code",
      "source": [
        "\n",
        "# Load MNIST dataset\n",
        "train_dataset = datasets.MNIST(\n",
        "    root=\"data\",\n",
        "    train=True,\n",
        "    download=True,\n",
        "    transform=ToTensor()\n",
        ")\n",
        "\n",
        "test_dataset = datasets.MNIST(\n",
        "    root=\"data\",\n",
        "    train=False,\n",
        "    download=True,\n",
        "    transform=ToTensor()\n",
        ")\n"
      ],
      "metadata": {
        "id": "Cy41kB__ai1t"
      },
      "execution_count": 31,
      "outputs": []
    },
    {
      "cell_type": "markdown",
      "source": [
        "### Model Setup: FeedForwardNN, Loss Function, and Optimizer"
      ],
      "metadata": {
        "id": "kQVzUStOdXBD"
      }
    },
    {
      "cell_type": "code",
      "source": [
        "torch_model = FeedForwardNN(784, 500, 250, 100, 10, activation=torch.sigmoid).to(device)\n",
        "criterion = nn.CrossEntropyLoss()\n",
        "optimizer = optim.Adam(torch_model.parameters(), lr=0.01)\n",
        "torch_model"
      ],
      "metadata": {
        "colab": {
          "base_uri": "https://localhost:8080/"
        },
        "id": "mIB-65uNanlX",
        "outputId": "5e1f0235-280d-4297-a11f-66352cd0003f"
      },
      "execution_count": 32,
      "outputs": [
        {
          "output_type": "execute_result",
          "data": {
            "text/plain": [
              "FeedForwardNN(\n",
              "  (layer1): Linear(in_features=784, out_features=500, bias=True)\n",
              "  (layer2): Linear(in_features=500, out_features=250, bias=True)\n",
              "  (layer3): Linear(in_features=250, out_features=100, bias=True)\n",
              "  (output_layer): Linear(in_features=100, out_features=10, bias=True)\n",
              "  (output_fn): Softmax(dim=None)\n",
              ")"
            ]
          },
          "metadata": {},
          "execution_count": 32
        }
      ]
    },
    {
      "cell_type": "markdown",
      "source": [
        "### Train Function"
      ],
      "metadata": {
        "id": "hDmwnrcsarq3"
      }
    },
    {
      "cell_type": "code",
      "source": [
        "def train(model, train_loader, val_loader, criterion, optimizer, num_epochs=15, device='cpu'):\n",
        "    train_losses = []\n",
        "    val_losses = []\n",
        "    for epoch in range(num_epochs):\n",
        "        model.train()\n",
        "        train_loss = 0.0\n",
        "        val_loss = 0.0\n",
        "        for batch_x, batch_y in train_loader:\n",
        "            batch_x, batch_y = batch_x.to(device), batch_y.to(device)\n",
        "            optimizer.zero_grad()\n",
        "            outputs = model(batch_x.view(-1, 784))\n",
        "            loss = criterion(outputs, batch_y)\n",
        "            loss.backward()\n",
        "            optimizer.step()\n",
        "            train_loss += loss.item()\n",
        "        avg_train_loss = train_loss / len(train_loader)\n",
        "        train_losses.append(avg_train_loss)\n",
        "        for batch_x, batch_y in val_loader:\n",
        "            batch_x, batch_y = batch_x.to(device), batch_y.to(device)\n",
        "            model.eval()\n",
        "            with torch.no_grad():\n",
        "                outputs = model(batch_x.view(-1, 784))\n",
        "                loss = criterion(outputs, batch_y)\n",
        "                val_loss += loss.item()\n",
        "        avg_val_loss = val_loss / len(val_loader)\n",
        "        val_losses.append(avg_val_loss)\n",
        "        print(f\"Epoch {epoch+1}/{num_epochs}, Train Loss: {avg_train_loss:.4f}, Val Loss: {avg_val_loss:.4f}\")\n",
        "    return train_losses, val_losses\n",
        "\n",
        "\n"
      ],
      "metadata": {
        "id": "MPbia9VDatpK"
      },
      "execution_count": 33,
      "outputs": []
    },
    {
      "cell_type": "markdown",
      "source": [
        "### Data Preperation"
      ],
      "metadata": {
        "id": "azfLI6T0eUt-"
      }
    },
    {
      "cell_type": "code",
      "source": [
        "import torch\n",
        "from torch.utils.data import DataLoader, random_split\n",
        "\n",
        "\n",
        "batch_size = 64\n",
        "\n",
        "\n",
        "\n",
        "train_size = int(0.8 * len(train_dataset))\n",
        "val_size = len(train_dataset) - train_size\n",
        "train_data, val_data = random_split(train_dataset, [train_size, val_size])\n",
        "\n",
        "\n",
        "train_loader = DataLoader(dataset=train_data, batch_size=batch_size, shuffle=True)\n",
        "val_loader = DataLoader(dataset=val_data, batch_size=batch_size, shuffle=False)\n",
        "test_loader = DataLoader(dataset=test_dataset, batch_size=batch_size, shuffle=False)"
      ],
      "metadata": {
        "id": "dsVkGUwca8Mu"
      },
      "execution_count": 34,
      "outputs": []
    },
    {
      "cell_type": "markdown",
      "source": [
        "### Training"
      ],
      "metadata": {
        "id": "_mO9PS55eryY"
      }
    },
    {
      "cell_type": "code",
      "source": [
        "train_loss, val_loss = train(torch_model, train_loader, val_loader, criterion, optimizer, num_epochs=15, device=device)"
      ],
      "metadata": {
        "colab": {
          "base_uri": "https://localhost:8080/"
        },
        "id": "OKREkBZva_Fo",
        "outputId": "ca548c32-b80f-4da4-ee5b-968213ba9a36"
      },
      "execution_count": 35,
      "outputs": [
        {
          "output_type": "stream",
          "name": "stdout",
          "text": [
            "Epoch 1/15, Train Loss: 1.6758, Val Loss: 1.5496\n",
            "Epoch 2/15, Train Loss: 1.5366, Val Loss: 1.5314\n",
            "Epoch 3/15, Train Loss: 1.5264, Val Loss: 1.5312\n",
            "Epoch 4/15, Train Loss: 1.5219, Val Loss: 1.5241\n",
            "Epoch 5/15, Train Loss: 1.5170, Val Loss: 1.5278\n",
            "Epoch 6/15, Train Loss: 1.5161, Val Loss: 1.5137\n",
            "Epoch 7/15, Train Loss: 1.5159, Val Loss: 1.5257\n",
            "Epoch 8/15, Train Loss: 1.5104, Val Loss: 1.5121\n",
            "Epoch 9/15, Train Loss: 1.5113, Val Loss: 1.5113\n",
            "Epoch 10/15, Train Loss: 1.5102, Val Loss: 1.5151\n",
            "Epoch 11/15, Train Loss: 1.5085, Val Loss: 1.5141\n",
            "Epoch 12/15, Train Loss: 1.5109, Val Loss: 1.5216\n",
            "Epoch 13/15, Train Loss: 1.5099, Val Loss: 1.5179\n",
            "Epoch 14/15, Train Loss: 1.5085, Val Loss: 1.5127\n",
            "Epoch 15/15, Train Loss: 1.5078, Val Loss: 1.5079\n"
          ]
        }
      ]
    },
    {
      "cell_type": "markdown",
      "source": [
        "### Plotting"
      ],
      "metadata": {
        "id": "JwnJZtwgbBrg"
      }
    },
    {
      "cell_type": "code",
      "source": [
        "x_t = [i+1 for i  in range(len(train_loss))]\n",
        "x_v = [i+1 for i  in range(len(val_loss))]\n",
        "plt.plot(x_t, train_loss, label='Train Loss')\n",
        "plt.plot(x_v, val_loss, label='Validation Loss')\n",
        "plt.xlabel('Epoch')\n",
        "plt.ylabel('Loss')\n",
        "plt.title(\"Training Loss of sigmoid using pytorch\")\n",
        "plt.legend()"
      ],
      "metadata": {
        "colab": {
          "base_uri": "https://localhost:8080/",
          "height": 490
        },
        "id": "whgFmYaPbDlq",
        "outputId": "effd4ab0-8b38-46b0-b333-501ffaf95974"
      },
      "execution_count": 36,
      "outputs": [
        {
          "output_type": "execute_result",
          "data": {
            "text/plain": [
              "<matplotlib.legend.Legend at 0x7fbfdf0202e0>"
            ]
          },
          "metadata": {},
          "execution_count": 36
        },
        {
          "output_type": "display_data",
          "data": {
            "text/plain": [
              "<Figure size 640x480 with 1 Axes>"
            ],
            "image/png": "[encoded data removed]"
          },
          "metadata": {}
        }
      ]
    },
    {
      "cell_type": "code",
      "source": [
        "def evaluate(model, data_loader, criterion, device='cpu'):\n",
        "    model.eval()\n",
        "    y_pred = []\n",
        "    true_y = []\n",
        "    with torch.no_grad():\n",
        "        for x, y in data_loader:\n",
        "            x, y = x.to(device), y.to(device)\n",
        "            outputs = model(x.view(-1, 784))\n",
        "            _, predicted = torch.max(outputs, 1)\n",
        "            y_pred.extend(predicted.cpu().numpy())\n",
        "            true_y.extend(y.cpu().numpy())\n",
        "    return y_pred, true_y\n",
        "\n",
        "\n",
        "\n"
      ],
      "metadata": {
        "id": "Ljx6ZA1hbHOg"
      },
      "execution_count": 37,
      "outputs": []
    },
    {
      "cell_type": "markdown",
      "source": [
        "### Train Data Classification Report"
      ],
      "metadata": {
        "id": "AebggMA0bPyr"
      }
    },
    {
      "cell_type": "code",
      "source": [
        "from sklearn.metrics import classification_report\n",
        "y_pred_train, y_train = evaluate(torch_model, train_loader, criterion, device=device)\n",
        "print(classification_report(y_pred_train, y_train))"
      ],
      "metadata": {
        "colab": {
          "base_uri": "https://localhost:8080/"
        },
        "id": "M9Tx-J-RbUMN",
        "outputId": "ec48c0d3-9f07-45ad-8d54-f5262533a7e4"
      },
      "execution_count": 38,
      "outputs": [
        {
          "output_type": "stream",
          "name": "stdout",
          "text": [
            "              precision    recall  f1-score   support\n",
            "\n",
            "           0       0.98      0.98      0.98      4777\n",
            "           1       0.98      0.98      0.98      5455\n",
            "           2       0.95      0.97      0.96      4700\n",
            "           3       0.95      0.94      0.95      4939\n",
            "           4       0.95      0.96      0.96      4624\n",
            "           5       0.96      0.95      0.96      4419\n",
            "           6       0.98      0.96      0.97      4873\n",
            "           7       0.96      0.97      0.97      4911\n",
            "           8       0.94      0.95      0.94      4615\n",
            "           9       0.94      0.94      0.94      4687\n",
            "\n",
            "    accuracy                           0.96     48000\n",
            "   macro avg       0.96      0.96      0.96     48000\n",
            "weighted avg       0.96      0.96      0.96     48000\n",
            "\n"
          ]
        }
      ]
    },
    {
      "cell_type": "markdown",
      "source": [
        "### Test Data Classification Report"
      ],
      "metadata": {
        "id": "ElOHr0ElbWog"
      }
    },
    {
      "cell_type": "code",
      "source": [
        "y_pred_test, y_test = evaluate(torch_model, test_loader, criterion, device=device)\n",
        "print(classification_report(y_pred_test, y_test))"
      ],
      "metadata": {
        "colab": {
          "base_uri": "https://localhost:8080/"
        },
        "id": "gLmR_iHibZdg",
        "outputId": "ea78f6e2-3bbf-4b40-dd6b-6414f2a7df06"
      },
      "execution_count": 39,
      "outputs": [
        {
          "output_type": "stream",
          "name": "stdout",
          "text": [
            "              precision    recall  f1-score   support\n",
            "\n",
            "           0       0.98      0.96      0.97      1003\n",
            "           1       0.98      0.98      0.98      1138\n",
            "           2       0.95      0.97      0.96      1010\n",
            "           3       0.96      0.94      0.95      1033\n",
            "           4       0.94      0.96      0.95       958\n",
            "           5       0.94      0.94      0.94       888\n",
            "           6       0.97      0.94      0.95       993\n",
            "           7       0.95      0.96      0.95      1009\n",
            "           8       0.92      0.95      0.93       952\n",
            "           9       0.94      0.93      0.93      1016\n",
            "\n",
            "    accuracy                           0.95     10000\n",
            "   macro avg       0.95      0.95      0.95     10000\n",
            "weighted avg       0.95      0.95      0.95     10000\n",
            "\n"
          ]
        }
      ]
    },
    {
      "cell_type": "markdown",
      "source": [
        "## L2 Regularization"
      ],
      "metadata": {
        "id": "Ii8HQ2i_lChT"
      }
    },
    {
      "cell_type": "code",
      "source": [
        "alpha = 0.01\n",
        "optimizer_l2 = optim.Adam(torch_model.parameters(), lr=0.01, weight_decay=1e-3)\n"
      ],
      "metadata": {
        "id": "FFeWprC5jd5B"
      },
      "execution_count": 57,
      "outputs": []
    },
    {
      "cell_type": "code",
      "source": [
        "train_loss, val_loss = train(torch_model, train_loader, val_loader, criterion, optimizer_l2, num_epochs=15, device=device)\n",
        "\n",
        "\n",
        "plt.figure(figsize=(10, 5))\n",
        "plt.plot(train_loss, label='Training Loss')\n",
        "plt.plot(val_loss, label='Validation Loss')\n",
        "plt.xlabel('Epochs')\n",
        "plt.ylabel('Loss')\n",
        "plt.title('Training and Validation Loss with L2 Regularization')\n",
        "plt.legend()\n",
        "plt.show()"
      ],
      "metadata": {
        "colab": {
          "base_uri": "https://localhost:8080/",
          "height": 755
        },
        "id": "5GRDKjEMlK1V",
        "outputId": "6e3eb846-1dd0-445a-cc1c-825ebe5a90cb"
      },
      "execution_count": 59,
      "outputs": [
        {
          "output_type": "stream",
          "name": "stdout",
          "text": [
            "Epoch 1/15, Train Loss: 1.6585, Val Loss: 1.6529\n",
            "Epoch 2/15, Train Loss: 1.6603, Val Loss: 1.6698\n",
            "Epoch 3/15, Train Loss: 1.6597, Val Loss: 1.7017\n",
            "Epoch 4/15, Train Loss: 1.6589, Val Loss: 1.6453\n",
            "Epoch 5/15, Train Loss: 1.6593, Val Loss: 1.6730\n",
            "Epoch 6/15, Train Loss: 1.6609, Val Loss: 1.6364\n",
            "Epoch 7/15, Train Loss: 1.6601, Val Loss: 1.6846\n",
            "Epoch 8/15, Train Loss: 1.6579, Val Loss: 1.6665\n",
            "Epoch 9/15, Train Loss: 1.6582, Val Loss: 1.6677\n",
            "Epoch 10/15, Train Loss: 1.6601, Val Loss: 1.6705\n",
            "Epoch 11/15, Train Loss: 1.6588, Val Loss: 1.6515\n",
            "Epoch 12/15, Train Loss: 1.6590, Val Loss: 1.6419\n",
            "Epoch 13/15, Train Loss: 1.6582, Val Loss: 1.7043\n",
            "Epoch 14/15, Train Loss: 1.6584, Val Loss: 1.6694\n",
            "Epoch 15/15, Train Loss: 1.6578, Val Loss: 1.6401\n"
          ]
        },
        {
          "output_type": "display_data",
          "data": {
            "text/plain": [
              "<Figure size 1000x500 with 1 Axes>"
            ],
            "image/png": "[encoded data removed]"
          },
          "metadata": {}
        }
      ]
    },
    {
      "cell_type": "code",
      "source": [
        "torch_model_l2 = FeedForwardNN(784, 500, 250, 100, 10, activation=torch.sigmoid).to(device)\n",
        "criterion = nn.CrossEntropyLoss()\n",
        "optimizer = optim.Adam(torch_model_l2.parameters(), lr=0.01, weight_decay = alpha)\n",
        "torch_model"
      ],
      "metadata": {
        "colab": {
          "base_uri": "https://localhost:8080/"
        },
        "id": "eYJjEsE0nLfB",
        "outputId": "a2fd2b9a-dc0d-498b-e153-4080e3cb33a0"
      },
      "execution_count": 60,
      "outputs": [
        {
          "output_type": "execute_result",
          "data": {
            "text/plain": [
              "FeedForwardNN(\n",
              "  (layer1): Linear(in_features=784, out_features=500, bias=True)\n",
              "  (layer2): Linear(in_features=500, out_features=250, bias=True)\n",
              "  (layer3): Linear(in_features=250, out_features=100, bias=True)\n",
              "  (output_layer): Linear(in_features=100, out_features=10, bias=True)\n",
              "  (output_fn): Softmax(dim=None)\n",
              ")"
            ]
          },
          "metadata": {},
          "execution_count": 60
        }
      ]
    },
    {
      "cell_type": "markdown",
      "source": [
        "### Classification Report for train data using L2"
      ],
      "metadata": {
        "id": "r0HfzwrplkH3"
      }
    },
    {
      "cell_type": "code",
      "source": [
        "y_pred_train, y_train = evaluate(torch_model_l2, train_loader, criterion, device=device)\n",
        "print(classification_report(y_pred_train, y_train))"
      ],
      "metadata": {
        "colab": {
          "base_uri": "https://localhost:8080/"
        },
        "id": "IqfV4X9nnXdM",
        "outputId": "0ab95859-5a5d-4ce8-fd66-0297266967ea"
      },
      "execution_count": 61,
      "outputs": [
        {
          "output_type": "stream",
          "name": "stdout",
          "text": [
            "              precision    recall  f1-score   support\n",
            "\n",
            "           0       1.00      0.10      0.18     48000\n",
            "           1       0.00      0.00      0.00         0\n",
            "           2       0.00      0.00      0.00         0\n",
            "           3       0.00      0.00      0.00         0\n",
            "           4       0.00      0.00      0.00         0\n",
            "           5       0.00      0.00      0.00         0\n",
            "           6       0.00      0.00      0.00         0\n",
            "           7       0.00      0.00      0.00         0\n",
            "           8       0.00      0.00      0.00         0\n",
            "           9       0.00      0.00      0.00         0\n",
            "\n",
            "    accuracy                           0.10     48000\n",
            "   macro avg       0.10      0.01      0.02     48000\n",
            "weighted avg       1.00      0.10      0.18     48000\n",
            "\n"
          ]
        }
      ]
    },
    {
      "cell_type": "markdown",
      "source": [
        "### Classification of test data using L2"
      ],
      "metadata": {
        "id": "ZL7_1GeHlpM2"
      }
    },
    {
      "cell_type": "code",
      "source": [
        "y_pred_test, y_test = evaluate(torch_model_l2, test_loader, criterion, device=device)\n",
        "print(classification_report(y_pred_test, y_test))"
      ],
      "metadata": {
        "colab": {
          "base_uri": "https://localhost:8080/"
        },
        "id": "g-eU_mMNnX2d",
        "outputId": "f0671048-6d86-415e-d943-a801ce3fc008"
      },
      "execution_count": 62,
      "outputs": [
        {
          "output_type": "stream",
          "name": "stdout",
          "text": [
            "              precision    recall  f1-score   support\n",
            "\n",
            "           0       1.00      0.10      0.18     10000\n",
            "           1       0.00      0.00      0.00         0\n",
            "           2       0.00      0.00      0.00         0\n",
            "           3       0.00      0.00      0.00         0\n",
            "           4       0.00      0.00      0.00         0\n",
            "           5       0.00      0.00      0.00         0\n",
            "           6       0.00      0.00      0.00         0\n",
            "           7       0.00      0.00      0.00         0\n",
            "           8       0.00      0.00      0.00         0\n",
            "           9       0.00      0.00      0.00         0\n",
            "\n",
            "    accuracy                           0.10     10000\n",
            "   macro avg       0.10      0.01      0.02     10000\n",
            "weighted avg       1.00      0.10      0.18     10000\n",
            "\n"
          ]
        }
      ]
    }
  ],
  "metadata": {
    "kernelspec": {
      "display_name": "Python 3",
      "language": "python",
      "name": "python3"
    },
    "language_info": {
      "codemirror_mode": {
        "name": "ipython",
        "version": 3
      },
      "file_extension": ".py",
      "mimetype": "text/x-python",
      "name": "python",
      "nbconvert_exporter": "python",
      "pygments_lexer": "ipython3",
      "version": "3.11.4"
    },
    "colab": {
      "provenance": []
    }
  },
  "nbformat": 4,
  "nbformat_minor": 0
}